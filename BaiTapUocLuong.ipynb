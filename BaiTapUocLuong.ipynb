{
  "nbformat": 4,
  "nbformat_minor": 0,
  "metadata": {
    "colab": {
      "name": "BaiTapUocLuong.ipynb",
      "provenance": [],
      "collapsed_sections": [],
      "include_colab_link": true
    },
    "kernelspec": {
      "name": "python3",
      "display_name": "Python 3"
    },
    "language_info": {
      "name": "python"
    }
  },
  "cells": [
    {
      "cell_type": "markdown",
      "metadata": {
        "id": "view-in-github",
        "colab_type": "text"
      },
      "source": [
        "<a href=\"https://colab.research.google.com/github/gramelon2003/toan/blob/master/BaiTapUocLuong.ipynb\" target=\"_parent\"><img src=\"https://colab.research.google.com/assets/colab-badge.svg\" alt=\"Open In Colab\"/></a>"
      ]
    },
    {
      "cell_type": "code",
      "execution_count": null,
      "metadata": {
        "colab": {
          "base_uri": "https://localhost:8080/"
        },
        "id": "49PmanG9fDv7",
        "outputId": "dc85dec0-c7f4-4537-ab69-a99988eca7e6"
      },
      "outputs": [
        {
          "output_type": "stream",
          "name": "stdout",
          "text": [
            "Mounted at /content/drive/\n"
          ]
        }
      ],
      "source": [
        "from google.colab import drive\n",
        "drive.mount('/content/drive/')"
      ]
    },
    {
      "cell_type": "code",
      "source": [
        "import pandas as pd\n",
        "import numpy as np\n",
        "from scipy import stats as st\n",
        "import seaborn as sns\n",
        "import math"
      ],
      "metadata": {
        "id": "GN-O_VVhfPW1"
      },
      "execution_count": null,
      "outputs": []
    },
    {
      "cell_type": "markdown",
      "source": [
        "# A. Tính toán Khoảng tin cậy cho Kỳ vọng của BNN Phân phối chuẩn"
      ],
      "metadata": {
        "id": "KrWwlvrFBRa9"
      }
    },
    {
      "cell_type": "code",
      "source": [
        "#define sample data\n",
        "data = [12, 12, 13, 13, 15, 16, 17, 22, 23, 25, 26, 27, 28, 28, 29]\n",
        "\n",
        "#create 95% confidence interval for population mean weight\n",
        "st.t.interval(alpha=0.95, df=len(data)-1, loc=np.mean(data), scale=st.sem(data)) \n",
        "\n",
        "(16.758, 24.042)"
      ],
      "metadata": {
        "colab": {
          "base_uri": "https://localhost:8080/"
        },
        "id": "GDRl2Air--Ng",
        "outputId": "b9a7e461-a3cc-4b83-bf11-f364b7d6a3d5"
      },
      "execution_count": null,
      "outputs": [
        {
          "output_type": "execute_result",
          "data": {
            "text/plain": [
              "(16.758, 24.042)"
            ]
          },
          "metadata": {},
          "execution_count": 29
        }
      ]
    },
    {
      "cell_type": "markdown",
      "source": [
        "**Tính toán ra giá trị này như thế nào?**"
      ],
      "metadata": {
        "id": "mkAIggyUxO3B"
      }
    },
    {
      "cell_type": "code",
      "source": [
        "# Trung bình mẫu (Khác với trung bình quần thể):\n",
        "# Kích thước mẫu:\n",
        "n = len(data)\n",
        "# Trung bình mẫu:\n",
        "x = 135.8\n",
        "# Phương sai mẫu: s^2 = 23.3 => Độ lệch chuẩn: s = sqrt(s^2)\n",
        "# alpha = 0.05,Ước lượng giá trị trung bình của thị trường tức là ước lượng cho trung bình thổng thể:\n",
        "# Áp dụng công thức:"
      ],
      "metadata": {
        "id": "QzWGyavCxSxG"
      },
      "execution_count": null,
      "outputs": []
    },
    {
      "cell_type": "markdown",
      "source": [
        "**Ước lượng khoảng trung bình tổng thể theo phân phối chuẩn:**\n",
        "\n",
        "$\\overline{x} - \\frac{s}{\\sqrt{n}}*\\mathrm{t}_{\\frac{\\alpha}{2}}^{n-1} < \\mu < \\overline{x} + \\frac{s}{\\sqrt{n}}*\\mathrm{t}_{\\frac{\\alpha}{2}}^{n-1} (1)$\n",
        "\n",
        "**Đặt giá trị:**\n",
        "\n",
        "$\\varepsilon$ : sai số\n",
        "\n",
        "Khi đó ta có:\n",
        "\n",
        "$\\varepsilon = \\frac{s}{\\sqrt{n}}*\\mathrm{t}_{\\frac{\\alpha}{2}}^{n-1}$\n",
        "\n",
        "**Khi đó hệ thức (1) trên trở thành:**\n",
        "\n",
        "$\\overline{x} - \\varepsilon < \\mu < \\overline{x} + \\varepsilon$\n",
        "\n"
      ],
      "metadata": {
        "id": "Xqr3IWXDx-eV"
      }
    },
    {
      "cell_type": "markdown",
      "source": [
        "Sai số của ước lượng càng nhỏ, ta gọi là ước lượng càng chính xác.\n",
        "\n",
        "Khi nói ước lượng\n",
        "chính xác hơn tức là sai số giảm đi.\n",
        "\n",
        "Dựa trên công thức, có thể thấy khi muốn sai số\n",
        "giảm đi, có thể có các cách sau:\n",
        "\n",
        "C1: Tăng kích thước mẫu: n tăng lên thì epsilon giảm\n",
        "\n",
        "C2: Giảm độ tin cậy (1-alpha) giảm thì alpha tăng và giá trị tới hạn giảm.\n",
        "\n",
        "Trong trường hợp giữ nguyên độ tin cậy,muốn sai số của ước lượng epsilon không vượt quá 1 khoảng epsilon0 cho trước thì kích thước mẫu tối thiểu cần điều tra được xác định xấp xỉ theo công thức sau:\n",
        "\n",
        "$n' \\ge \\frac{s^{2}}{\\mathrm{\\varepsilon}_{0}^{2}}(\\mathrm{t}_{\\alpha/2}^{n-1})^{2}$\n",
        "\n",
        "Con số n' trên là xấp xỉ,vì khi kích thước mẫu thay đổi thì giá trị tới hạn và s^2 cũng thay đổi,nhưng ta chấp nhận rằng sự thay đổi là không nhiều.\n",
        "\n"
      ],
      "metadata": {
        "id": "1-kVbOuD5YLZ"
      }
    },
    {
      "cell_type": "code",
      "source": [
        "def calc_confidence_interval_for_mean(data, alpha):\n",
        "  if len(data) < 30:\n",
        "    # print(st.t.interval(alpha, len(data) - 1, np.mean(data), scale = st.sem(data)))\n",
        "    return (st.t.interval(alpha, len(data) - 1, np.mean(data), scale = st.sem(data)))\n",
        "  else:\n",
        "    # print(st.norm.interval(alpha, loc=np.mean(data), scale=st.sem(data)))\n",
        "    return(st.norm.interval(alpha, loc=np.mean(data), scale=st.sem(data)))"
      ],
      "metadata": {
        "id": "LB6XniQN-ATg"
      },
      "execution_count": null,
      "outputs": []
    },
    {
      "cell_type": "code",
      "source": [
        "st.sem(data)#Giá trị st.sem tương đương với s/sqrt(n)"
      ],
      "metadata": {
        "colab": {
          "base_uri": "https://localhost:8080/"
        },
        "id": "_A_lFIT-_FA4",
        "outputId": "edc4bf9f-3115-4611-b23f-b8a8ab852bdb"
      },
      "execution_count": null,
      "outputs": [
        {
          "output_type": "execute_result",
          "data": {
            "text/plain": [
              "1.6981782956478755"
            ]
          },
          "metadata": {},
          "execution_count": 72
        }
      ]
    },
    {
      "cell_type": "code",
      "source": [
        "s = np.std(data, ddof = 1)\n",
        "s"
      ],
      "metadata": {
        "colab": {
          "base_uri": "https://localhost:8080/"
        },
        "id": "Q_d44zmY_II_",
        "outputId": "87053f8c-dbd9-4683-b273-991fde49cda0"
      },
      "execution_count": null,
      "outputs": [
        {
          "output_type": "execute_result",
          "data": {
            "text/plain": [
              "6.577016257935117"
            ]
          },
          "metadata": {},
          "execution_count": 71
        }
      ]
    },
    {
      "cell_type": "code",
      "source": [
        "n = len(data)"
      ],
      "metadata": {
        "id": "NsnvOp-ozxok"
      },
      "execution_count": null,
      "outputs": []
    },
    {
      "cell_type": "code",
      "source": [
        "s/math.sqrt(n)"
      ],
      "metadata": {
        "colab": {
          "base_uri": "https://localhost:8080/"
        },
        "id": "exwsnEtm37Ri",
        "outputId": "5ac730ab-daad-4e21-c6b5-35dc2848e1f1"
      },
      "execution_count": null,
      "outputs": [
        {
          "output_type": "execute_result",
          "data": {
            "text/plain": [
              "1.6981782956478755"
            ]
          },
          "metadata": {},
          "execution_count": 75
        }
      ]
    },
    {
      "cell_type": "code",
      "source": [
        "alpha = .05"
      ],
      "metadata": {
        "id": "W4klA44L1mWM"
      },
      "execution_count": null,
      "outputs": []
    },
    {
      "cell_type": "code",
      "source": [
        "# Tính giá trị tới hạn t-critical:\n",
        "t_df = st.t.ppf(alpha/2, n - 1)\n",
        "t_df"
      ],
      "metadata": {
        "colab": {
          "base_uri": "https://localhost:8080/"
        },
        "id": "sZi8q2sbz9OV",
        "outputId": "9e4a0e7b-4f50-4e08-dda7-dd66391ca5c0"
      },
      "execution_count": null,
      "outputs": [
        {
          "output_type": "execute_result",
          "data": {
            "text/plain": [
              "-2.1447866879169277"
            ]
          },
          "metadata": {},
          "execution_count": 65
        }
      ]
    },
    {
      "cell_type": "code",
      "source": [
        "mu = np.mean(data)\n",
        "mu"
      ],
      "metadata": {
        "colab": {
          "base_uri": "https://localhost:8080/"
        },
        "id": "wMxmfkml0Iz8",
        "outputId": "47fa43d1-5258-484a-c12d-e22621b2b723"
      },
      "execution_count": null,
      "outputs": [
        {
          "output_type": "execute_result",
          "data": {
            "text/plain": [
              "20.4"
            ]
          },
          "metadata": {},
          "execution_count": 66
        }
      ]
    },
    {
      "cell_type": "code",
      "source": [
        "mu - st.sem(data)*st.t.ppf(alpha/2, n-1)\n"
      ],
      "metadata": {
        "colab": {
          "base_uri": "https://localhost:8080/"
        },
        "id": "YHhk69Od0Qcj",
        "outputId": "75adfa31-aefe-437b-a017-0c9c06a25a72"
      },
      "execution_count": null,
      "outputs": [
        {
          "output_type": "execute_result",
          "data": {
            "text/plain": [
              "24.04223020221502"
            ]
          },
          "metadata": {},
          "execution_count": 70
        }
      ]
    },
    {
      "cell_type": "code",
      "source": [
        "mu - s/math.sqrt(n)*st.t.ppf(alpha/2, n-1)"
      ],
      "metadata": {
        "colab": {
          "base_uri": "https://localhost:8080/"
        },
        "id": "vpRv3OZo3CrM",
        "outputId": "75c33159-abca-4d06-ac9b-035dafc1655c"
      },
      "execution_count": null,
      "outputs": [
        {
          "output_type": "execute_result",
          "data": {
            "text/plain": [
              "24.04223020221502"
            ]
          },
          "metadata": {},
          "execution_count": 74
        }
      ]
    },
    {
      "cell_type": "code",
      "source": [
        "calc_confidence_interval_for_mean(data, 0.95)"
      ],
      "metadata": {
        "colab": {
          "base_uri": "https://localhost:8080/"
        },
        "id": "-rd4lNepAkOH",
        "outputId": "35e0600d-4dd5-4da1-8fc5-d2c4ac99683c"
      },
      "execution_count": null,
      "outputs": [
        {
          "output_type": "execute_result",
          "data": {
            "text/plain": [
              "(16.75776979778498, 24.042230202215016)"
            ]
          },
          "metadata": {},
          "execution_count": 7
        }
      ]
    },
    {
      "cell_type": "code",
      "source": [
        "# np.random.seed(0)\n",
        "# data = np.random.randint(10, 30, 50)"
      ],
      "metadata": {
        "id": "IjY7BOCpAs_t"
      },
      "execution_count": null,
      "outputs": []
    },
    {
      "cell_type": "code",
      "source": [
        "calc_confidence_interval_for_mean(data, 0.95)"
      ],
      "metadata": {
        "colab": {
          "base_uri": "https://localhost:8080/"
        },
        "id": "S8pd40hrAugG",
        "outputId": "8155b7ee-ab49-46bc-e26b-5a2f4b5115c3"
      },
      "execution_count": null,
      "outputs": [
        {
          "output_type": "execute_result",
          "data": {
            "text/plain": [
              "(17.400060940568054, 21.079939059431943)"
            ]
          },
          "metadata": {},
          "execution_count": 27
        }
      ]
    },
    {
      "cell_type": "code",
      "source": [
        "epsilon = s/math.sqrt(n)*st.t.ppf(alpha/2, n-1)\n",
        "epsilon"
      ],
      "metadata": {
        "colab": {
          "base_uri": "https://localhost:8080/"
        },
        "id": "u5PZry104FRS",
        "outputId": "6f400284-d25c-4f00-ead7-39c980aeac59"
      },
      "execution_count": null,
      "outputs": [
        {
          "output_type": "execute_result",
          "data": {
            "text/plain": [
              "-3.64223020221502"
            ]
          },
          "metadata": {},
          "execution_count": 82
        }
      ]
    },
    {
      "cell_type": "markdown",
      "source": [
        "# B. Tính toán Khoảng tin cậy cho Phương sai của BNN Phân phối chuẩn"
      ],
      "metadata": {
        "id": "ht5IRmncmuw6"
      }
    },
    {
      "cell_type": "markdown",
      "source": [
        "**Công thức Ước lượng khoảng tin cậy của phương sai tổng thể:**\n",
        "\n",
        "$\\frac{(n-1).S^{2}}{\\mathrm{\\chi}_{\\alpha/2}^{2(n-1)}} <  \\sigma^{2} < \\frac{(n-1).S^{2}}{\\mathrm{\\chi}_{1-\\alpha/2}^{2(n-1)}}$\n",
        "\n",
        "\n",
        "**Với mẫu cụ thể,thay $S^{2}$ bằng $s^{2}$,nên khoảng tin cậy tính như sau:**\n",
        "\n",
        "$\\frac{(n-1).s^{2}}{\\mathrm{\\chi}_{\\alpha/2}^{2(n-1)}} <  \\sigma^{2} < \\frac{(n-1).s^{2}}{\\mathrm{\\chi}_{1-\\alpha/2}^{2(n-1)}}$"
      ],
      "metadata": {
        "id": "eY4ayE2Tpi0f"
      }
    },
    {
      "cell_type": "markdown",
      "source": [
        "**Xét bài toán sau:**\n",
        "\n",
        "20 cửa hàng quần áo => $n = 20$\n",
        "\n",
        "135.8k là trung bình mẫu => $\\mu = 135.8$\n",
        "\n",
        "23.3k là phương sai mẫu => $s^{2} = 23.3$\n",
        "\n",
        "<hr>\n",
        "\n",
        "Với độ tin cậy 95%.Hãy ước lượng độ dao động của của giá bán trên thị trường,đo bởi phương sai và độ lệch chuẩn.\n",
        "\n",
        "Với độ tin cậy 90%.Hãy tìm khoảng tin cậy cho độ phân tán của giá bán trên thị trường.\n",
        "\n"
      ],
      "metadata": {
        "id": "O0rP-Hvfq0eg"
      }
    },
    {
      "cell_type": "markdown",
      "source": [
        "Vì $X ≈ N(\\mu, \\sigma^{2})$ với $\\sigma^{2}$ là phương sai tổng thể chưa biết.\n",
        "\n",
        "Mẫu cụ thể: $n = 20, \\overline{x} = 135.8, s^{2} = 23.3$\n",
        "\n",
        "Đề bào ghi rõ độ dao động đo bởi phương sai và độ lệch chuẩn nên ta hiểu đó chính là phương sai và độ lệch chuẩn của tổng thể.\n",
        "\n",
        "Độ lệch chuẩn tính trực tiếp từ phương sai $\\sigma^{2}$ nên do đó ta cần **Ước lượng phương sai**:\n",
        "\n"
      ],
      "metadata": {
        "id": "YhENPK_yr6h2"
      }
    },
    {
      "cell_type": "markdown",
      "source": [
        "**Công thức Ước lượng khoảng tin cậy của phương sai tổng thể:**\n",
        "\n",
        "$\\frac{(n-1).S^{2}}{\\mathrm{\\chi}_{\\alpha/2}^{2(n-1)}} <  \\sigma^{2} < \\frac{(n-1).S^{2}}{\\mathrm{\\chi}_{1-\\alpha/2}^{2(n-1)}}$\n",
        "\n",
        "\n",
        "**Với mẫu cụ thể,thay $S^{2}$ bằng $s^{2}$,nên khoảng tin cậy tính như sau:**\n",
        "\n",
        "$\\frac{(n-1).s^{2}}{\\mathrm{\\chi}_{\\alpha/2}^{2(n-1)}} <  \\sigma^{2} < \\frac{(n-1).s^{2}}{\\mathrm{\\chi}_{1-\\alpha/2}^{2(n-1)}}$"
      ],
      "metadata": {
        "id": "TNFtBdQPtQQG"
      }
    },
    {
      "cell_type": "markdown",
      "source": [
        "**Ta cần tính giá trị tới hạn $\\chi$**\n",
        "\n",
        "$\\mathrm{\\chi}_{\\alpha/2}^{2(n-1)} = \\mathrm{\\chi}_{0.05/2}^{2(20-1)} = \\mathrm{\\chi}_{0.025}^{2(19)} = 32.85$\n",
        "\n",
        "$\\mathrm{\\chi}_{1-\\alpha}^{2(n-1)} = \\mathrm{\\chi}_{1-0.05/2}^{2(20-1)} = \\mathrm{\\chi}_{0.975}^{2(19)} = 8.907$"
      ],
      "metadata": {
        "id": "48TXtziltTVW"
      }
    },
    {
      "cell_type": "markdown",
      "source": [
        "**Thay số vào công thức ta được:**\n",
        "\n",
        "$\\frac{(20-1).23.3}{32.85} <  \\sigma^{2} < \\frac{(20-1).23.3}{8.907}$\n",
        "\n",
        "$3.67 < \\sigma < 7.05$\n",
        "\n",
        "**Với độ tin cậy 95%,ước lượng độ dao động của giá bán trên thị trường đo bằng phương sai (13.476, 49.702) ngàn,đo bằng độ lệch chuẩn là (3.67;7.05)**"
      ],
      "metadata": {
        "id": "jQYX067Vuem2"
      }
    },
    {
      "cell_type": "code",
      "source": [
        "df2 = [80, 120, 160, 200, 240, 280, 320]\n",
        "freq = [3,9,25,29,21,7,6]\n",
        "# df2 = [12,16,20,24,28]\n",
        "# freq = [2,5,8,7,3]\n",
        "df = pd.DataFrame({\n",
        "    \"x\": df2,\n",
        "    \"n\": freq\n",
        "})"
      ],
      "metadata": {
        "id": "L501z_GIqvCg"
      },
      "execution_count": null,
      "outputs": []
    },
    {
      "cell_type": "code",
      "source": [
        "df.head()"
      ],
      "metadata": {
        "colab": {
          "base_uri": "https://localhost:8080/",
          "height": 206
        },
        "id": "FJSNSG43MpnN",
        "outputId": "ea0a028c-d2a3-4100-9d9f-e855a6bbec16"
      },
      "execution_count": null,
      "outputs": [
        {
          "output_type": "execute_result",
          "data": {
            "text/plain": [
              "    x  n\n",
              "0  12  2\n",
              "1  16  5\n",
              "2  20  8\n",
              "3  24  7\n",
              "4  28  3"
            ],
            "text/html": [
              "\n",
              "  <div id=\"df-35039490-5d97-43f4-9e0a-e792483626b7\">\n",
              "    <div class=\"colab-df-container\">\n",
              "      <div>\n",
              "<style scoped>\n",
              "    .dataframe tbody tr th:only-of-type {\n",
              "        vertical-align: middle;\n",
              "    }\n",
              "\n",
              "    .dataframe tbody tr th {\n",
              "        vertical-align: top;\n",
              "    }\n",
              "\n",
              "    .dataframe thead th {\n",
              "        text-align: right;\n",
              "    }\n",
              "</style>\n",
              "<table border=\"1\" class=\"dataframe\">\n",
              "  <thead>\n",
              "    <tr style=\"text-align: right;\">\n",
              "      <th></th>\n",
              "      <th>x</th>\n",
              "      <th>n</th>\n",
              "    </tr>\n",
              "  </thead>\n",
              "  <tbody>\n",
              "    <tr>\n",
              "      <th>0</th>\n",
              "      <td>12</td>\n",
              "      <td>2</td>\n",
              "    </tr>\n",
              "    <tr>\n",
              "      <th>1</th>\n",
              "      <td>16</td>\n",
              "      <td>5</td>\n",
              "    </tr>\n",
              "    <tr>\n",
              "      <th>2</th>\n",
              "      <td>20</td>\n",
              "      <td>8</td>\n",
              "    </tr>\n",
              "    <tr>\n",
              "      <th>3</th>\n",
              "      <td>24</td>\n",
              "      <td>7</td>\n",
              "    </tr>\n",
              "    <tr>\n",
              "      <th>4</th>\n",
              "      <td>28</td>\n",
              "      <td>3</td>\n",
              "    </tr>\n",
              "  </tbody>\n",
              "</table>\n",
              "</div>\n",
              "      <button class=\"colab-df-convert\" onclick=\"convertToInteractive('df-35039490-5d97-43f4-9e0a-e792483626b7')\"\n",
              "              title=\"Convert this dataframe to an interactive table.\"\n",
              "              style=\"display:none;\">\n",
              "        \n",
              "  <svg xmlns=\"http://www.w3.org/2000/svg\" height=\"24px\"viewBox=\"0 0 24 24\"\n",
              "       width=\"24px\">\n",
              "    <path d=\"M0 0h24v24H0V0z\" fill=\"none\"/>\n",
              "    <path d=\"M18.56 5.44l.94 2.06.94-2.06 2.06-.94-2.06-.94-.94-2.06-.94 2.06-2.06.94zm-11 1L8.5 8.5l.94-2.06 2.06-.94-2.06-.94L8.5 2.5l-.94 2.06-2.06.94zm10 10l.94 2.06.94-2.06 2.06-.94-2.06-.94-.94-2.06-.94 2.06-2.06.94z\"/><path d=\"M17.41 7.96l-1.37-1.37c-.4-.4-.92-.59-1.43-.59-.52 0-1.04.2-1.43.59L10.3 9.45l-7.72 7.72c-.78.78-.78 2.05 0 2.83L4 21.41c.39.39.9.59 1.41.59.51 0 1.02-.2 1.41-.59l7.78-7.78 2.81-2.81c.8-.78.8-2.07 0-2.86zM5.41 20L4 18.59l7.72-7.72 1.47 1.35L5.41 20z\"/>\n",
              "  </svg>\n",
              "      </button>\n",
              "      \n",
              "  <style>\n",
              "    .colab-df-container {\n",
              "      display:flex;\n",
              "      flex-wrap:wrap;\n",
              "      gap: 12px;\n",
              "    }\n",
              "\n",
              "    .colab-df-convert {\n",
              "      background-color: #E8F0FE;\n",
              "      border: none;\n",
              "      border-radius: 50%;\n",
              "      cursor: pointer;\n",
              "      display: none;\n",
              "      fill: #1967D2;\n",
              "      height: 32px;\n",
              "      padding: 0 0 0 0;\n",
              "      width: 32px;\n",
              "    }\n",
              "\n",
              "    .colab-df-convert:hover {\n",
              "      background-color: #E2EBFA;\n",
              "      box-shadow: 0px 1px 2px rgba(60, 64, 67, 0.3), 0px 1px 3px 1px rgba(60, 64, 67, 0.15);\n",
              "      fill: #174EA6;\n",
              "    }\n",
              "\n",
              "    [theme=dark] .colab-df-convert {\n",
              "      background-color: #3B4455;\n",
              "      fill: #D2E3FC;\n",
              "    }\n",
              "\n",
              "    [theme=dark] .colab-df-convert:hover {\n",
              "      background-color: #434B5C;\n",
              "      box-shadow: 0px 1px 3px 1px rgba(0, 0, 0, 0.15);\n",
              "      filter: drop-shadow(0px 1px 2px rgba(0, 0, 0, 0.3));\n",
              "      fill: #FFFFFF;\n",
              "    }\n",
              "  </style>\n",
              "\n",
              "      <script>\n",
              "        const buttonEl =\n",
              "          document.querySelector('#df-35039490-5d97-43f4-9e0a-e792483626b7 button.colab-df-convert');\n",
              "        buttonEl.style.display =\n",
              "          google.colab.kernel.accessAllowed ? 'block' : 'none';\n",
              "\n",
              "        async function convertToInteractive(key) {\n",
              "          const element = document.querySelector('#df-35039490-5d97-43f4-9e0a-e792483626b7');\n",
              "          const dataTable =\n",
              "            await google.colab.kernel.invokeFunction('convertToInteractive',\n",
              "                                                     [key], {});\n",
              "          if (!dataTable) return;\n",
              "\n",
              "          const docLinkHtml = 'Like what you see? Visit the ' +\n",
              "            '<a target=\"_blank\" href=https://colab.research.google.com/notebooks/data_table.ipynb>data table notebook</a>'\n",
              "            + ' to learn more about interactive tables.';\n",
              "          element.innerHTML = '';\n",
              "          dataTable['output_type'] = 'display_data';\n",
              "          await google.colab.output.renderOutput(dataTable, element);\n",
              "          const docLink = document.createElement('div');\n",
              "          docLink.innerHTML = docLinkHtml;\n",
              "          element.appendChild(docLink);\n",
              "        }\n",
              "      </script>\n",
              "    </div>\n",
              "  </div>\n",
              "  "
            ]
          },
          "metadata": {},
          "execution_count": 15
        }
      ]
    },
    {
      "cell_type": "code",
      "source": [
        "n = np.sum(df[\"n\"])\n",
        "n"
      ],
      "metadata": {
        "colab": {
          "base_uri": "https://localhost:8080/"
        },
        "id": "thXkQrIFMs0M",
        "outputId": "d5c5de12-002b-4036-dc13-e30922b7c45d"
      },
      "execution_count": null,
      "outputs": [
        {
          "output_type": "execute_result",
          "data": {
            "text/plain": [
              "100"
            ]
          },
          "metadata": {},
          "execution_count": 33
        }
      ]
    },
    {
      "cell_type": "code",
      "source": [
        "nx = np.sum(df[\"x\"]*df[\"n\"])\n",
        "nx"
      ],
      "metadata": {
        "colab": {
          "base_uri": "https://localhost:8080/"
        },
        "id": "HlojlvzjM1aD",
        "outputId": "01c687e7-3030-4246-d7b5-366a567d3657"
      },
      "execution_count": null,
      "outputs": [
        {
          "output_type": "execute_result",
          "data": {
            "text/plain": [
              "20040"
            ]
          },
          "metadata": {},
          "execution_count": 34
        }
      ]
    },
    {
      "cell_type": "code",
      "source": [
        "nx2 = np.sum(df[\"n\"]*df[\"x\"]*df[\"x\"])\n",
        "nx2"
      ],
      "metadata": {
        "colab": {
          "base_uri": "https://localhost:8080/"
        },
        "id": "h2rHmNLqNGxa",
        "outputId": "4f4d05bb-5170-49b0-cf66-2d957f3fffe7"
      },
      "execution_count": null,
      "outputs": [
        {
          "output_type": "execute_result",
          "data": {
            "text/plain": [
              "4321600"
            ]
          },
          "metadata": {},
          "execution_count": 35
        }
      ]
    },
    {
      "cell_type": "code",
      "source": [
        "# 1. Kích thước mẫu:\n",
        "n"
      ],
      "metadata": {
        "colab": {
          "base_uri": "https://localhost:8080/"
        },
        "id": "A5p1JM1yNlH8",
        "outputId": "c609b433-26e6-4dd6-a172-79252ac996d0"
      },
      "execution_count": null,
      "outputs": [
        {
          "output_type": "execute_result",
          "data": {
            "text/plain": [
              "100"
            ]
          },
          "metadata": {},
          "execution_count": 36
        }
      ]
    },
    {
      "cell_type": "code",
      "source": [
        "# 2. Trung bình mẫu: = nx/n\n",
        "mean_of_sample = nx/n\n",
        "mean_of_sample"
      ],
      "metadata": {
        "colab": {
          "base_uri": "https://localhost:8080/"
        },
        "id": "emMIq-ECNlK6",
        "outputId": "8c39eb03-9069-430b-ea2e-ddcdcf4b88fe"
      },
      "execution_count": null,
      "outputs": [
        {
          "output_type": "execute_result",
          "data": {
            "text/plain": [
              "200.4"
            ]
          },
          "metadata": {},
          "execution_count": 37
        }
      ]
    },
    {
      "cell_type": "code",
      "source": [
        "# 3. Phương sai mẫu:\n",
        "s_square = (n/(n-1))*(nx2/n - mean_of_sample*mean_of_sample)\n",
        "s_square"
      ],
      "metadata": {
        "colab": {
          "base_uri": "https://localhost:8080/"
        },
        "id": "4sFphoPZNlN8",
        "outputId": "52aee85d-1669-4aff-e986-3fb40795087d"
      },
      "execution_count": null,
      "outputs": [
        {
          "output_type": "execute_result",
          "data": {
            "text/plain": [
              "3086.7070707070675"
            ]
          },
          "metadata": {},
          "execution_count": 38
        }
      ]
    },
    {
      "cell_type": "code",
      "source": [
        "s = math.sqrt(s_square)\n",
        "s"
      ],
      "metadata": {
        "colab": {
          "base_uri": "https://localhost:8080/"
        },
        "id": "I0niXd4YNlQp",
        "outputId": "33405f1a-fe52-4355-95b7-136ee9b81e38"
      },
      "execution_count": null,
      "outputs": [
        {
          "output_type": "execute_result",
          "data": {
            "text/plain": [
              "55.5581413539642"
            ]
          },
          "metadata": {},
          "execution_count": 39
        }
      ]
    },
    {
      "cell_type": "code",
      "source": [
        "alpha = .05\n",
        "chi_left = st.chi2.ppf(1-alpha/2, df=n)"
      ],
      "metadata": {
        "id": "tNTL453_NlTu"
      },
      "execution_count": null,
      "outputs": []
    },
    {
      "cell_type": "code",
      "source": [
        "chi_right = st.chi2.ppf(alpha/2, df=n)"
      ],
      "metadata": {
        "id": "AeKQHBfaUdNh"
      },
      "execution_count": null,
      "outputs": []
    },
    {
      "cell_type": "code",
      "source": [
        "right_value = (n-1)*s_square/chi_right\n",
        "left_value = (n-1)*s_square/chi_left"
      ],
      "metadata": {
        "id": "Cxit3opEUsmX"
      },
      "execution_count": null,
      "outputs": []
    },
    {
      "cell_type": "code",
      "source": [
        "right_value"
      ],
      "metadata": {
        "colab": {
          "base_uri": "https://localhost:8080/"
        },
        "id": "HQUkHKMSVnC_",
        "outputId": "32faba1b-12b6-48ea-a99b-64377c520b04"
      },
      "execution_count": null,
      "outputs": [
        {
          "output_type": "execute_result",
          "data": {
            "text/plain": [
              "4117.166050467267"
            ]
          },
          "metadata": {},
          "execution_count": 52
        }
      ]
    },
    {
      "cell_type": "code",
      "source": [
        "left_value"
      ],
      "metadata": {
        "colab": {
          "base_uri": "https://localhost:8080/"
        },
        "id": "LLB4vHJMVpXm",
        "outputId": "8e50f0b1-a14e-4bd1-af13-a2289cc54c99"
      },
      "execution_count": null,
      "outputs": [
        {
          "output_type": "execute_result",
          "data": {
            "text/plain": [
              "2358.60741207635"
            ]
          },
          "metadata": {},
          "execution_count": 53
        }
      ]
    },
    {
      "cell_type": "code",
      "source": [
        "sigma_square = (math.sqrt(left_value), math.sqrt(right_value))\n",
        "sigma_square"
      ],
      "metadata": {
        "colab": {
          "base_uri": "https://localhost:8080/"
        },
        "id": "6emmnowBV1kv",
        "outputId": "815e78f4-49ed-4733-dd28-e8fd36f4d86e"
      },
      "execution_count": null,
      "outputs": [
        {
          "output_type": "execute_result",
          "data": {
            "text/plain": [
              "(48.56549610656057, 64.16514669559533)"
            ]
          },
          "metadata": {},
          "execution_count": 54
        }
      ]
    },
    {
      "cell_type": "markdown",
      "source": [
        "**Công thức Ước lượng khoảng tin cậy của phương sai tổng thể:**\n",
        "\n",
        "$\\frac{(n-1).S^{2}}{\\mathrm{\\chi}_{\\alpha/2}^{2(n-1)}} <  \\sigma^{2} < \\frac{(n-1).S^{2}}{\\mathrm{\\chi}_{1-\\alpha/2}^{2(n-1)}}$\n",
        "\n",
        "\n",
        "**Với mẫu cụ thể,thay $S^{2}$ bằng $s^{2}$,nên khoảng tin cậy tính như sau:**\n",
        "\n",
        "$\\frac{(n-1).s^{2}}{\\mathrm{\\chi}_{\\alpha/2}^{2(n-1)}} <  \\sigma^{2} < \\frac{(n-1).s^{2}}{\\mathrm{\\chi}_{1-\\alpha/2}^{2(n-1)}}$\n",
        "\n"
      ],
      "metadata": {
        "id": "l_8ERcgKU1so"
      }
    },
    {
      "cell_type": "markdown",
      "source": [
        "**Giải thích công thức toán học của các đại lượng:**\n",
        "\n",
        "**Kích thước mẫu: n**\n",
        "\n",
        "$n = \\sum_{i = 1}^{k}n_i$\n",
        "\n",
        "**Trung bình mẫu: $\\overline{x}$**\n",
        "\n",
        "$\\overline{x} = \\frac{1}{n}\\sum_{i = 1}^{k}n_i*x_i$\n",
        "\n",
        "**Phương sai mẫu: $s^{2}$**\n",
        "\n",
        "$s^{2} = \\frac{1}{n-1}\\sum_{i = 1}^{k}n_{i}.(x^{2}_{i} - \\overline{x}^{2})$\n",
        "\n",
        "**Hoặc ngắn gọn hơn là:**\n",
        "\n",
        "$s^{2} = \\frac{n}{n-1}(\\overline{x^{2}} - \\overline{x}^{2})$\n",
        "\n",
        "Với $\\overline{x^{2}} = \\frac{1}{n}\\sum_{i = 1}^{k}n_i*x_i^{2}$ \n",
        "\n",
        "**Ta có $s^{2}$ tương đương:**\n",
        "\n",
        "$s^{2} = \\frac{n}{n-1}[\\overline{x^{2}} - (\\overline{x}^{2})]$"
      ],
      "metadata": {
        "id": "KqGas4E6cpCM"
      }
    },
    {
      "cell_type": "code",
      "source": [
        "# Hàm ước lượng khoảng phương sai tổng thể phân phối chuẩn:\n",
        "def calc_confidence_interval_for_variance(confidence,range_value, freq):\n",
        "  df = pd.DataFrame({\n",
        "    \"x\": range_value,\n",
        "    \"n\": freq\n",
        "})\n",
        "  # 1. Số lượng phần tử của mẫu:\n",
        "  n = np.sum(df[\"n\"])\n",
        "  # nx:\n",
        "  nx = np.sum(df[\"x\"]*df[\"n\"])\n",
        "  # nx^2:\n",
        "  nx2 = np.sum(df[\"n\"]*df[\"x\"]*df[\"x\"])\n",
        "  # 2. Trung bình mẫu: = nx/n\n",
        "  mean_of_sample = nx/n\n",
        "  # 3. Phương sai mẫu:\n",
        "  s_square = (n/(n-1))*(nx2/n - mean_of_sample*mean_of_sample)\n",
        "  # 4. alpha:\n",
        "  alpha = (1-confidence/100)\n",
        "  # Calc chi-critical value\n",
        "  chi_left = st.chi2.ppf(1-alpha/2, df=n)\n",
        "  chi_right = st.chi2.ppf(alpha/2, df=n)\n",
        "  ###\n",
        "  right_value = (n-1)*s_square/chi_right\n",
        "  left_value = (n-1)*s_square/chi_left\n",
        "  # 5. Confidence interval with Variance:\n",
        "  sigma_square = (math.sqrt(left_value), math.sqrt(right_value))\n",
        "  return sigma_square"
      ],
      "metadata": {
        "id": "XCZ7RQJPWZT3"
      },
      "execution_count": null,
      "outputs": []
    },
    {
      "cell_type": "code",
      "source": [
        "# Hàm ước lượng khoảng phương sai tổng thể phân phối chuẩn:\n",
        "calc_confidence_interval_for_variance(95, [80, 120, 160, 200, 240, 280, 320], [3,9,25,29,21,7,6])"
      ],
      "metadata": {
        "colab": {
          "base_uri": "https://localhost:8080/"
        },
        "id": "t0mOvZLGYdke",
        "outputId": "950a07ef-01ff-4b66-f9cf-990ab8568ad3"
      },
      "execution_count": null,
      "outputs": [
        {
          "output_type": "execute_result",
          "data": {
            "text/plain": [
              "(48.56549610656057, 64.16514669559533)"
            ]
          },
          "metadata": {},
          "execution_count": 58
        }
      ]
    },
    {
      "cell_type": "markdown",
      "source": [
        "# C. Ước lượng Khoảng tỷ lệ tổng thể"
      ],
      "metadata": {
        "id": "CVuMwqgAm1ML"
      }
    },
    {
      "cell_type": "markdown",
      "source": [
        "Cần ước lượng tần suất tổng thể p với độ tin cậy (1 – $\\alpha$) dựa trên một mẫu ngẫu nhiên\n",
        "kích thước $n$.\n",
        "\n",
        "Trong mẫu, tần suất mẫu của dấu hiệu A là f = $X_{A}/n$ với $X_A$ là tần số ngẫu\n",
        "nhiên của dấu hiệu A trong mẫu.\n",
        "\n",
        "Với mẫu ngẫu nhiên hoặc cụ thể, ký hiệu f dùng chung. \n",
        "\n",
        "Bài toán ước lượng khoảng\n",
        "cho tỷ lệ tổng thể thực hiện với mẫu có kích thước từ 100 trở lên: n ≥ 100.\n",
        "Ước lượng khoảng, hoặc khoảng tin cậy có dạng đối xứng:\n",
        "\n"
      ],
      "metadata": {
        "id": "0KNw92sffH9y"
      }
    },
    {
      "cell_type": "markdown",
      "source": [
        "$f - \\frac{\\sqrt{f(1-f)}}{\\sqrt{n}}.u_{\\alpha/2} < p < f + \\frac{\\sqrt{f(1-f)}}{\\sqrt{n}}.u_{\\alpha/2} (1)$"
      ],
      "metadata": {
        "id": "Zvor9QCjgEBZ"
      }
    },
    {
      "cell_type": "markdown",
      "source": [
        "**Ước lượng Khoảng này có thể viết lại dưới dạng:**\n",
        "\n",
        "$f-\\varepsilon < p < f + \\varepsilon$\n",
        "\n",
        "Trong đó $\\varepsilon$ gọi là **sai số** và:\n",
        "\n",
        "$\\varepsilon = \\frac{\\sqrt{f(1-f)}}{\\sqrt{n}}.u_{\\alpha/2}$\n",
        "\n",
        "Do đó nếu muốn sai số của ước lượng không vượt quá giá trị $\\varepsilon_{0}$ cho trước thì kích thước mẫu tối thiểu là:\n",
        "\n",
        "$n' \\geqslant  \\frac{{f(1-f)}}{\\varepsilon^2_0}.u^2_{\\alpha/2}$\n"
      ],
      "metadata": {
        "id": "94QqgUtKgFy5"
      }
    },
    {
      "cell_type": "markdown",
      "source": [
        "**Xét bài toán**\n",
        "\n",
        "Kiểm tra ngẫu nhiên 400 sản phẩm của một nhà máy sản xuất,thấy có 92 sản phẩm đạt chất lượng loại 1. Với độ tin cậy 95%.\n",
        "\n",
        "1. Tỉ lệ sản phẩm loại 1 của nhà máy nằm trong khoảng nào?\n",
        "\n",
        "2. Nếu muốn sai số không quá 4% thì cần kiểm tra ít nhất bao nhiêu sản phẩm?\n",
        "\n",
        "3. Hãy ước lượng số sản phẩm loại 1 trong số 40 ngàn sản phẩm?\n",
        "\n"
      ],
      "metadata": {
        "id": "oAhxifHohYlx"
      }
    },
    {
      "cell_type": "markdown",
      "source": [
        "**Lời giải**\n",
        "\n",
        "Đặt $p$ là tỉ lệ sản phẩm loại I của nhà máy.$p$ là chưa biết.\n",
        "\n",
        "Với mẫu,$n = 400$ số sản phẩm loại 1, k = 92, đặt $f$ là tỉ lệ sản phẩm loại 1 trong mẫu:\n",
        "\n",
        "$f = \\frac{k}{n} = \\frac{92}{400} = 0.23$\n",
        "\n",
        "1. Ước lượng cho p với độ tin cậy 95% hay $\\alpha$ = 0.05\n",
        "\n",
        "Công thức (1):\n",
        "\n",
        "Với $u_{\\alpha/2} = u_{0.025} = 1.96$,thay số vào ta có:\n",
        "\n",
        "$0.23 - \\frac{\\sqrt{0.23(1-0.23)}}{\\sqrt{400}}*1.96< p < 0.23 + \\frac{\\sqrt{0.23(1-0.23)}}{\\sqrt{400}}*1.96$\n",
        "\n",
        "\n",
        "\n",
        "$0.23 - 0.0412 < p < 0.23 + 0.0412$\n",
        "\n",
        "$0.1888 < p < 0.2712$\n",
        "\n",
        "**Vậy tỉ lệ sản phẩm loại 1 nằm trong khoảng p trên**\n",
        "\n"
      ],
      "metadata": {
        "id": "4d2CwUagiEJY"
      }
    },
    {
      "cell_type": "markdown",
      "source": [
        ""
      ],
      "metadata": {
        "id": "cJ1H12rdj_SZ"
      }
    },
    {
      "cell_type": "code",
      "source": [
        "u = st.norm.ppf(0.05/2)\n",
        "u"
      ],
      "metadata": {
        "colab": {
          "base_uri": "https://localhost:8080/"
        },
        "id": "I8G4kqPfkWa5",
        "outputId": "90f867ec-1eac-41fe-8374-8797a92b4209"
      },
      "execution_count": null,
      "outputs": [
        {
          "output_type": "execute_result",
          "data": {
            "text/plain": [
              "-1.9599639845400545"
            ]
          },
          "metadata": {},
          "execution_count": 62
        }
      ]
    },
    {
      "cell_type": "code",
      "source": [
        "# Số lượng mẫu\n",
        "n = 400\n",
        "# Số sp đạt yêu cầu\n",
        "k = 92\n",
        "# Tỷ lệ sp loại 1 trong mẫu:\n",
        "f = k/n\n",
        "# z-critical(alpha/2) = u(alpha/2)\n",
        "confidence = 95\n",
        "alpha = (1-confidence/100)\n",
        "u = st.norm.ppf(alpha/2)\n",
        "\n",
        "# Ước lượng cho p với độ tin cậy confidence = 95:\n",
        "p = (f + u * (math.sqrt(abs(f*(f-1))))/(math.sqrt(n)), f - u * (math.sqrt(abs(f*(f-1))))/(math.sqrt(n)))\n",
        "print(p)\n"
      ],
      "metadata": {
        "colab": {
          "base_uri": "https://localhost:8080/"
        },
        "id": "i9RxQSsEke51",
        "outputId": "2a1637f1-7223-4c1a-e700-841d72cfc07d"
      },
      "execution_count": null,
      "outputs": [
        {
          "output_type": "stream",
          "name": "stdout",
          "text": [
            "(0.18875917201531567, 0.27124082798468435)\n"
          ]
        }
      ]
    }
  ]
}